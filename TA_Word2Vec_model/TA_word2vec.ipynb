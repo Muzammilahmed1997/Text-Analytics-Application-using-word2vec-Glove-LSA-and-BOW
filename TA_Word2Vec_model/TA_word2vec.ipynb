{
 "cells": [
  {
   "attachments": {},
   "cell_type": "markdown",
   "metadata": {},
   "source": [
    "## WORD2VEC (Pre Trained)"
   ]
  },
  {
   "attachments": {},
   "cell_type": "markdown",
   "metadata": {},
   "source": [
    "### Importing Libraries"
   ]
  },
  {
   "cell_type": "code",
   "execution_count": 1,
   "metadata": {},
   "outputs": [],
   "source": [
    "import pandas as pd\n",
    "import numpy as np \n",
    "import gensim\n",
    "from sklearn.metrics.pairwise import cosine_similarity\n",
    "from sklearn.cluster import KMeans, AgglomerativeClustering, MiniBatchKMeans\n",
    "from sklearn.metrics import silhouette_score\n",
    "from gensim.models import KeyedVectors\n",
    "import pickle"
   ]
  },
  {
   "attachments": {},
   "cell_type": "markdown",
   "metadata": {},
   "source": [
    "### Importing Dataset"
   ]
  },
  {
   "cell_type": "code",
   "execution_count": 2,
   "metadata": {},
   "outputs": [
    {
     "data": {
      "text/plain": [
       "(3328, 2)"
      ]
     },
     "execution_count": 2,
     "metadata": {},
     "output_type": "execute_result"
    }
   ],
   "source": [
    "data = pd.read_csv('C:/Users/Muzammil/Desktop/TA_Assignment_1/TA_Data_Collection/sentences.csv')\n",
    "data.shape"
   ]
  },
  {
   "cell_type": "code",
   "execution_count": 3,
   "metadata": {},
   "outputs": [
    {
     "data": {
      "text/html": [
       "<div>\n",
       "<style scoped>\n",
       "    .dataframe tbody tr th:only-of-type {\n",
       "        vertical-align: middle;\n",
       "    }\n",
       "\n",
       "    .dataframe tbody tr th {\n",
       "        vertical-align: top;\n",
       "    }\n",
       "\n",
       "    .dataframe thead th {\n",
       "        text-align: right;\n",
       "    }\n",
       "</style>\n",
       "<table border=\"1\" class=\"dataframe\">\n",
       "  <thead>\n",
       "    <tr style=\"text-align: right;\">\n",
       "      <th></th>\n",
       "      <th>sentence</th>\n",
       "      <th>Text</th>\n",
       "    </tr>\n",
       "  </thead>\n",
       "  <tbody>\n",
       "    <tr>\n",
       "      <th>3323</th>\n",
       "      <td>India’s forex reserves increase, stand at $562...</td>\n",
       "      <td>MUMBAI: India’s foreign exchange reserves rose...</td>\n",
       "    </tr>\n",
       "    <tr>\n",
       "      <th>3324</th>\n",
       "      <td>Ford to cut 1,100 jobs in Spain</td>\n",
       "      <td>MADRID: U.S. auto maker Ford plans to slash 1,...</td>\n",
       "    </tr>\n",
       "    <tr>\n",
       "      <th>3325</th>\n",
       "      <td>Sri Lankan shares snap 6-day rally as financia...</td>\n",
       "      <td>Sri Lankan shares closed lower on Friday, afte...</td>\n",
       "    </tr>\n",
       "    <tr>\n",
       "      <th>3326</th>\n",
       "      <td>NY cocoa to fall to $2,692</td>\n",
       "      <td>SINGAPORE: New York May cocoa is expected to b...</td>\n",
       "    </tr>\n",
       "    <tr>\n",
       "      <th>3327</th>\n",
       "      <td>Banks drag FTSE 100 to 1-month low</td>\n",
       "      <td>London’s blue-chip FTSE 100 index fell on Frid...</td>\n",
       "    </tr>\n",
       "  </tbody>\n",
       "</table>\n",
       "</div>"
      ],
      "text/plain": [
       "                                               sentence  \\\n",
       "3323  India’s forex reserves increase, stand at $562...   \n",
       "3324                    Ford to cut 1,100 jobs in Spain   \n",
       "3325  Sri Lankan shares snap 6-day rally as financia...   \n",
       "3326                         NY cocoa to fall to $2,692   \n",
       "3327                 Banks drag FTSE 100 to 1-month low   \n",
       "\n",
       "                                                   Text  \n",
       "3323  MUMBAI: India’s foreign exchange reserves rose...  \n",
       "3324  MADRID: U.S. auto maker Ford plans to slash 1,...  \n",
       "3325  Sri Lankan shares closed lower on Friday, afte...  \n",
       "3326  SINGAPORE: New York May cocoa is expected to b...  \n",
       "3327  London’s blue-chip FTSE 100 index fell on Frid...  "
      ]
     },
     "execution_count": 3,
     "metadata": {},
     "output_type": "execute_result"
    }
   ],
   "source": [
    "data.tail()"
   ]
  },
  {
   "attachments": {},
   "cell_type": "markdown",
   "metadata": {},
   "source": [
    "### Loading Pre Trained Word2Vec"
   ]
  },
  {
   "cell_type": "code",
   "execution_count": 3,
   "metadata": {},
   "outputs": [],
   "source": [
    "model = gensim.models.KeyedVectors.load_word2vec_format('GoogleNews-vectors-negative300.bin', binary=True)"
   ]
  },
  {
   "cell_type": "code",
   "execution_count": 5,
   "metadata": {},
   "outputs": [
    {
     "data": {
      "text/plain": [
       "300"
      ]
     },
     "execution_count": 5,
     "metadata": {},
     "output_type": "execute_result"
    }
   ],
   "source": [
    "model.vector_size"
   ]
  },
  {
   "cell_type": "code",
   "execution_count": 31,
   "metadata": {},
   "outputs": [
    {
     "data": {
      "text/plain": [
       "array([-0.05102539,  0.12060547, -0.01257324,  0.03088379, -0.08544922,\n",
       "        0.0534668 , -0.13964844, -0.16308594,  0.08300781,  0.20507812,\n",
       "       -0.09423828,  0.15527344, -0.00418091,  0.02111816, -0.10986328,\n",
       "        0.22460938,  0.22265625,  0.15917969,  0.05786133, -0.15527344,\n",
       "        0.23046875,  0.34765625,  0.44335938, -0.14550781,  0.15136719,\n",
       "        0.02209473, -0.16308594,  0.2578125 ,  0.20019531,  0.06054688,\n",
       "       -0.0222168 , -0.13183594, -0.06396484, -0.12792969,  0.09814453,\n",
       "       -0.13574219,  0.01928711,  0.25195312,  0.14257812,  0.2421875 ,\n",
       "        0.03173828, -0.17089844,  0.26171875,  0.4296875 ,  0.24804688,\n",
       "       -0.10351562, -0.13867188, -0.14257812, -0.20703125, -0.00860596,\n",
       "       -0.43359375, -0.01757812,  0.40234375,  0.32617188,  0.33203125,\n",
       "        0.01000977, -0.11523438, -0.12695312,  0.01940918, -0.25390625,\n",
       "        0.00393677, -0.00344849, -0.19042969,  0.05419922,  0.14453125,\n",
       "       -0.0546875 , -0.11132812,  0.15136719, -0.265625  ,  0.20019531,\n",
       "        0.14941406,  0.16601562,  0.06835938,  0.00616455, -0.35742188,\n",
       "        0.14746094,  0.05761719,  0.00152588,  0.12890625,  0.44921875,\n",
       "        0.10302734,  0.06225586, -0.17382812, -0.34570312, -0.10644531,\n",
       "       -0.07324219, -0.05566406,  0.10351562,  0.38867188,  0.2109375 ,\n",
       "       -0.09228516, -0.02709961, -0.03320312, -0.02575684, -0.53125   ,\n",
       "        0.12988281,  0.2578125 ,  0.06494141, -0.04394531, -0.17089844,\n",
       "       -0.31445312, -0.09619141, -0.109375  ,  0.21191406,  0.13183594,\n",
       "        0.14550781,  0.05151367,  0.01275635,  0.07519531,  0.04345703,\n",
       "       -0.00854492,  0.22070312,  0.00055695, -0.23339844,  0.23632812,\n",
       "       -0.05932617,  0.17578125,  0.26953125,  0.06640625, -0.04785156,\n",
       "        0.38671875, -0.00411987, -0.453125  ,  0.06689453, -0.09326172,\n",
       "        0.03637695, -0.11474609,  0.18066406,  0.23632812, -0.11572266,\n",
       "       -0.3203125 , -0.12695312, -0.11474609,  0.10986328,  0.00592041,\n",
       "       -0.234375  , -0.04931641,  0.15429688,  0.09521484,  0.05395508,\n",
       "        0.26171875,  0.14160156, -0.21386719,  0.00747681,  0.12792969,\n",
       "        0.08886719,  0.09570312, -0.3203125 ,  0.22949219, -0.296875  ,\n",
       "        0.02844238,  0.01989746,  0.31054688, -0.17382812,  0.05981445,\n",
       "       -0.1875    , -0.17871094,  0.18164062, -0.12792969, -0.23925781,\n",
       "       -0.375     ,  0.19042969,  0.234375  ,  0.03173828,  0.14160156,\n",
       "       -0.21875   , -0.12695312, -0.03613281, -0.19042969,  0.01660156,\n",
       "        0.33203125, -0.06445312,  0.16210938, -0.16210938, -0.20019531,\n",
       "        0.37890625,  0.04589844, -0.09423828, -0.12597656, -0.09765625,\n",
       "       -0.04248047, -0.1640625 ,  0.0534668 ,  0.26171875,  0.14160156,\n",
       "       -0.2109375 , -0.1484375 ,  0.2578125 , -0.10986328, -0.11279297,\n",
       "       -0.05297852,  0.12695312,  0.3359375 ,  0.12890625,  0.24609375,\n",
       "        0.09472656, -0.0703125 , -0.13183594, -0.05273438, -0.06591797,\n",
       "        0.07324219, -0.02380371, -0.00460815,  0.22363281, -0.03662109,\n",
       "        0.03173828, -0.23632812,  0.296875  , -0.09667969,  0.19042969,\n",
       "        0.09082031,  0.13183594, -0.07226562, -0.28515625,  0.12158203,\n",
       "        0.01287842,  0.21289062, -0.13476562, -0.08496094, -0.37695312,\n",
       "       -0.01483154,  0.30859375, -0.09326172, -0.26367188,  0.03369141,\n",
       "       -0.02880859, -0.09082031, -0.125     , -0.50390625, -0.1640625 ,\n",
       "       -0.12890625, -0.19726562, -0.36523438, -0.04370117, -0.07519531,\n",
       "        0.11035156,  0.03149414,  0.09521484,  0.09033203,  0.11132812,\n",
       "        0.09667969,  0.07275391, -0.04125977,  0.07519531,  0.03613281,\n",
       "        0.05932617,  0.16894531,  0.15039062,  0.06542969, -0.04956055,\n",
       "       -0.05932617,  0.08935547,  0.08154297,  0.18945312,  0.00390625,\n",
       "       -0.08154297, -0.11669922, -0.09326172, -0.32617188, -0.16699219,\n",
       "       -0.0559082 ,  0.13476562,  0.1328125 ,  0.0625    ,  0.07080078,\n",
       "        0.13378906, -0.16210938,  0.15917969,  0.09082031, -0.06542969,\n",
       "       -0.08984375,  0.25390625,  0.19921875, -0.14160156,  0.36914062,\n",
       "        0.14453125, -0.09130859, -0.03564453, -0.01281738, -0.046875  ,\n",
       "       -0.17773438, -0.00149536, -0.13085938,  0.14355469,  0.3671875 ,\n",
       "       -0.17773438, -0.22558594, -0.10986328,  0.04248047,  0.16601562,\n",
       "        0.00964355, -0.06835938, -0.11669922, -0.15136719,  0.36132812,\n",
       "       -0.22851562, -0.01672363, -0.26367188, -0.10742188,  0.0222168 ],\n",
       "      dtype=float32)"
      ]
     },
     "execution_count": 31,
     "metadata": {},
     "output_type": "execute_result"
    }
   ],
   "source": [
    "model['Hello']"
   ]
  },
  {
   "cell_type": "code",
   "execution_count": 32,
   "metadata": {},
   "outputs": [
    {
     "data": {
      "text/plain": [
       "0        [pemra, bans, airing, of, imran, khan, speeches]\n",
       "1       [govt, immediately, lifts, pemra, ban, on, imr...\n",
       "2       [pemra, imposes, ban, on, live, telecast, of, ...\n",
       "3       [ihc, suspends, pemra, notification, banning, ...\n",
       "4       [twitter, storm, after, pemra, bans, imran, li...\n",
       "                              ...                        \n",
       "3323    [india, forex, reserves, increase, stand, at, bn]\n",
       "3324                     [ford, to, cut, jobs, in, spain]\n",
       "3325    [sri, lankan, shares, snap, day, rally, as, fi...\n",
       "3326                            [ny, cocoa, to, fall, to]\n",
       "3327                  [banks, drag, ftse, to, month, low]\n",
       "Name: sentence, Length: 3328, dtype: object"
      ]
     },
     "execution_count": 32,
     "metadata": {},
     "output_type": "execute_result"
    }
   ],
   "source": [
    "preprocessed_text = data.sentence.apply(gensim.utils.simple_preprocess)\n",
    "preprocessed_text"
   ]
  },
  {
   "cell_type": "code",
   "execution_count": 33,
   "metadata": {},
   "outputs": [
    {
     "name": "stderr",
     "output_type": "stream",
     "text": [
      "C:\\Users\\Muzammil\\AppData\\Local\\Temp\\ipykernel_16012\\2333033327.py:1: DeprecationWarning: Call to deprecated `word_vec` (Use get_vector instead).\n",
      "  model.word_vec(\"bad\")\n"
     ]
    },
    {
     "data": {
      "text/plain": [
       "array([ 0.06298828,  0.12451172,  0.11328125,  0.07324219,  0.03881836,\n",
       "        0.07910156,  0.05078125,  0.171875  ,  0.09619141,  0.22070312,\n",
       "       -0.04150391, -0.09277344, -0.02209473,  0.14746094, -0.21582031,\n",
       "        0.15234375,  0.19238281, -0.05078125, -0.11181641, -0.3203125 ,\n",
       "        0.00506592,  0.15332031, -0.02563477, -0.0234375 ,  0.36328125,\n",
       "        0.20605469,  0.04760742, -0.02624512,  0.09033203,  0.00457764,\n",
       "       -0.15332031,  0.06591797,  0.3515625 , -0.12451172,  0.03015137,\n",
       "        0.16210938,  0.00242615, -0.02282715,  0.02978516,  0.00531006,\n",
       "        0.25976562, -0.22460938,  0.29492188, -0.18066406,  0.07910156,\n",
       "        0.02282715,  0.12109375, -0.17382812, -0.03735352, -0.06933594,\n",
       "       -0.21972656,  0.1875    , -0.03320312, -0.06225586, -0.04492188,\n",
       "        0.11621094, -0.23339844, -0.11669922,  0.09814453, -0.11962891,\n",
       "        0.13964844,  0.28710938, -0.26953125, -0.05493164,  0.03112793,\n",
       "       -0.05029297,  0.1328125 , -0.01831055, -0.37695312, -0.06298828,\n",
       "        0.12597656, -0.07910156, -0.04467773,  0.10400391, -0.41210938,\n",
       "        0.22851562, -0.07080078,  0.24511719,  0.06494141,  0.12890625,\n",
       "       -0.05102539, -0.00308228, -0.17871094,  0.25976562, -0.13476562,\n",
       "       -0.21289062, -0.234375  ,  0.21777344, -0.07910156,  0.01977539,\n",
       "        0.19726562,  0.17285156,  0.03613281, -0.17578125, -0.02966309,\n",
       "       -0.00939941,  0.25976562,  0.12353516,  0.19140625, -0.03930664,\n",
       "        0.15917969,  0.05664062, -0.01977539, -0.14941406,  0.12597656,\n",
       "       -0.00350952, -0.05957031, -0.14648438,  0.01660156, -0.35742188,\n",
       "       -0.0300293 ,  0.03149414, -0.0324707 , -0.3203125 ,  0.35351562,\n",
       "       -0.19433594,  0.13964844,  0.07470703, -0.10888672,  0.10107422,\n",
       "       -0.296875  , -0.01348877, -0.14160156,  0.06982422, -0.20703125,\n",
       "       -0.25195312,  0.03955078,  0.04345703,  0.05957031, -0.15429688,\n",
       "       -0.43359375, -0.13671875,  0.00436401,  0.13867188, -0.13867188,\n",
       "       -0.125     ,  0.00118256,  0.08203125, -0.01989746, -0.10449219,\n",
       "        0.04638672,  0.03735352,  0.078125  , -0.00656128, -0.12402344,\n",
       "       -0.3125    , -0.23046875,  0.0065918 ,  0.22949219, -0.21875   ,\n",
       "        0.2421875 , -0.01062012, -0.26367188,  0.3359375 , -0.19140625,\n",
       "        0.02636719, -0.0112915 , -0.20898438,  0.06298828, -0.07763672,\n",
       "       -0.11572266,  0.14648438,  0.10400391, -0.02819824,  0.12109375,\n",
       "       -0.11083984, -0.02893066, -0.171875  ,  0.1953125 , -0.12451172,\n",
       "       -0.19140625, -0.03857422, -0.01507568,  0.05151367, -0.06884766,\n",
       "        0.07177734,  0.25195312, -0.09570312,  0.08251953, -0.0135498 ,\n",
       "        0.07177734, -0.27734375,  0.00350952, -0.11035156, -0.15039062,\n",
       "        0.08642578, -0.27148438,  0.10009766, -0.02746582,  0.07470703,\n",
       "        0.11865234,  0.08740234, -0.03955078,  0.05004883, -0.03735352,\n",
       "        0.03369141, -0.01977539, -0.16210938,  0.00460815, -0.0390625 ,\n",
       "        0.10302734,  0.18066406, -0.01495361, -0.08105469,  0.02905273,\n",
       "       -0.02490234, -0.21875   ,  0.04492188, -0.09472656, -0.07519531,\n",
       "       -0.1640625 , -0.13476562,  0.02111816,  0.10888672, -0.08251953,\n",
       "        0.10644531,  0.04345703, -0.1484375 , -0.02038574,  0.02734375,\n",
       "       -0.11767578, -0.03735352,  0.10400391, -0.11572266,  0.0546875 ,\n",
       "       -0.05664062, -0.11669922,  0.00180817, -0.04736328,  0.13085938,\n",
       "       -0.00089645,  0.01831055,  0.13378906, -0.12060547,  0.13671875,\n",
       "        0.05053711, -0.19238281, -0.24414062,  0.02062988,  0.11035156,\n",
       "        0.42773438,  0.11572266,  0.0480957 , -0.11572266,  0.00787354,\n",
       "       -0.08251953,  0.03808594,  0.06542969, -0.14453125, -0.13769531,\n",
       "        0.02001953, -0.05395508,  0.17675781,  0.06298828, -0.05981445,\n",
       "       -0.25195312,  0.24414062,  0.17382812,  0.09619141, -0.30664062,\n",
       "       -0.21875   ,  0.28710938, -0.00897217,  0.01818848,  0.06445312,\n",
       "        0.01660156, -0.07177734, -0.15625   ,  0.06738281, -0.05371094,\n",
       "        0.08154297,  0.29101562,  0.11523438, -0.02258301,  0.01306152,\n",
       "       -0.10595703,  0.19824219, -0.03393555, -0.05419922,  0.07763672,\n",
       "        0.05859375, -0.07910156,  0.09863281, -0.06054688, -0.09765625,\n",
       "       -0.01269531, -0.12695312, -0.06982422, -0.13574219, -0.10058594,\n",
       "        0.01135254,  0.34179688, -0.09033203,  0.07666016, -0.0324707 ,\n",
       "        0.13378906, -0.15429688, -0.06347656,  0.11474609,  0.03100586],\n",
       "      dtype=float32)"
      ]
     },
     "execution_count": 33,
     "metadata": {},
     "output_type": "execute_result"
    }
   ],
   "source": [
    "model.word_vec(\"bad\")\n"
   ]
  },
  {
   "cell_type": "code",
   "execution_count": null,
   "metadata": {},
   "outputs": [
    {
     "data": {
      "text/plain": [
       "[('Abu_Dhabi', 0.7878970503807068),\n",
       " ('UAE', 0.7321926951408386),\n",
       " ('emirate', 0.715543270111084),\n",
       " ('Sharjah', 0.7086455225944519),\n",
       " ('United_Arab_Emirates', 0.6911906599998474),\n",
       " ('Ajman', 0.6768753528594971),\n",
       " ('Dubais', 0.6670787334442139),\n",
       " ('Fujairah', 0.6649850010871887),\n",
       " ('Nakheel', 0.6603208780288696),\n",
       " ('Ras_Al_Khaimah', 0.657249391078949)]"
      ]
     },
     "execution_count": 12,
     "metadata": {},
     "output_type": "execute_result"
    }
   ],
   "source": [
    "model.most_similar('Dubai')"
   ]
  },
  {
   "cell_type": "code",
   "execution_count": null,
   "metadata": {},
   "outputs": [
    {
     "data": {
      "text/plain": [
       "[('woman', 0.7609435319900513)]"
      ]
     },
     "execution_count": 13,
     "metadata": {},
     "output_type": "execute_result"
    }
   ],
   "source": [
    "model.most_similar(positive=['man', 'queen'], negative=['king'], topn=1)"
   ]
  },
  {
   "cell_type": "code",
   "execution_count": null,
   "metadata": {},
   "outputs": [
    {
     "data": {
      "text/plain": [
       "[('woman', 0.451737642288208)]"
      ]
     },
     "execution_count": 14,
     "metadata": {},
     "output_type": "execute_result"
    }
   ],
   "source": [
    "model.most_similar(positive=['man', 'president'], negative=['minister'], topn=1)"
   ]
  },
  {
   "cell_type": "code",
   "execution_count": null,
   "metadata": {},
   "outputs": [
    {
     "data": {
      "text/plain": [
       "[('inning', 0.5170379877090454),\n",
       " ('pitcher', 0.5008012652397156),\n",
       " ('pitchers', 0.4905071258544922),\n",
       " ('Bullpen_blows', 0.48777392506599426),\n",
       " ('Grapefruit_roundup', 0.4761795401573181)]"
      ]
     },
     "execution_count": 15,
     "metadata": {},
     "output_type": "execute_result"
    }
   ],
   "source": [
    "model.most_similar(positive=['wicket', 'baseball'], negative=['cricket'], topn=5)"
   ]
  },
  {
   "cell_type": "code",
   "execution_count": 5,
   "metadata": {},
   "outputs": [],
   "source": [
    "## function to create sentence embedding\n",
    "\n",
    "def sentence_embedding(data):\n",
    "    words = data.split()\n",
    "    embedding = np.zeros(300)\n",
    "    count = 0\n",
    "    for word in words:\n",
    "        if word in model.index_to_key:\n",
    "            embedding += model[word]\n",
    "            count += 1\n",
    "    if count > 0:\n",
    "        embedding /= count\n",
    "    return embedding"
   ]
  },
  {
   "cell_type": "code",
   "execution_count": 6,
   "metadata": {},
   "outputs": [],
   "source": [
    "corpus = []\n",
    "\n",
    "for i in data['sentence']:\n",
    "    corpus.append(sentence_embedding(i))"
   ]
  },
  {
   "cell_type": "code",
   "execution_count": 7,
   "metadata": {},
   "outputs": [],
   "source": [
    "pickle.dump(corpus, open('W2V_Vector', 'wb'))"
   ]
  },
  {
   "cell_type": "code",
   "execution_count": null,
   "metadata": {},
   "outputs": [
    {
     "data": {
      "text/plain": [
       "(3328, 300)"
      ]
     },
     "execution_count": 18,
     "metadata": {},
     "output_type": "execute_result"
    }
   ],
   "source": [
    "np.array(corpus).shape"
   ]
  },
  {
   "cell_type": "code",
   "execution_count": null,
   "metadata": {},
   "outputs": [
    {
     "name": "stdout",
     "output_type": "stream",
     "text": [
      "[[-0.17053833  0.07895508  0.17519531 ... -0.0265625  -0.06138916\n",
      "   0.11728516]\n",
      " [-0.04949951  0.01161412  0.09089007 ... -0.05684989 -0.0823931\n",
      "  -0.01377651]\n",
      " [-0.10493164 -0.04038086  0.12824097 ... -0.03017578  0.00581665\n",
      "   0.08642578]\n",
      " ...\n",
      " [ 0.09457058  0.0389133   0.00555589 ...  0.04490577  0.02316623\n",
      "   0.07532756]\n",
      " [-0.02368164  0.03678385 -0.13085938 ...  0.02132161 -0.02636719\n",
      "  -0.06658936]\n",
      " [ 0.09874725 -0.00109863 -0.19677734 ...  0.12063599  0.08265305\n",
      "  -0.04382324]]\n"
     ]
    }
   ],
   "source": [
    "print(np.array(corpus))"
   ]
  },
  {
   "cell_type": "code",
   "execution_count": null,
   "metadata": {},
   "outputs": [],
   "source": [
    "input_data = \"tribut pour veteran actor muham qavi khan\"\n",
    "\n",
    "input_corpus  = sentence_embedding(input_data)"
   ]
  },
  {
   "cell_type": "code",
   "execution_count": null,
   "metadata": {},
   "outputs": [],
   "source": [
    "input_corpus=input_corpus.reshape(1,300)"
   ]
  },
  {
   "cell_type": "code",
   "execution_count": null,
   "metadata": {},
   "outputs": [
    {
     "data": {
      "text/plain": [
       "(1, 300)"
      ]
     },
     "execution_count": 22,
     "metadata": {},
     "output_type": "execute_result"
    }
   ],
   "source": [
    "np.array(input_corpus).shape"
   ]
  },
  {
   "attachments": {},
   "cell_type": "markdown",
   "metadata": {},
   "source": [
    "### Cosine Similarity"
   ]
  },
  {
   "cell_type": "code",
   "execution_count": null,
   "metadata": {},
   "outputs": [
    {
     "name": "stdout",
     "output_type": "stream",
     "text": [
      "[[0.31431361 0.22949886 0.24664227 ... 0.24705491 0.10965757 0.11103422]]\n",
      "0.7163321812751485\n",
      "909\n",
      "0.7163321812751485\n",
      "[ 909 1079  707  476  535]\n"
     ]
    }
   ],
   "source": [
    "cos_similarities = cosine_similarity(np.array(input_corpus) , np.array(corpus))\n",
    "print(cos_similarities)\n",
    "print(cos_similarities.max())\n",
    "print(cos_similarities[0].argmax())\n",
    "print(cos_similarities[0].max())\n",
    "s= cos_similarities[0].argsort()[-5:][::-1]\n",
    "print(s)"
   ]
  },
  {
   "cell_type": "code",
   "execution_count": null,
   "metadata": {},
   "outputs": [
    {
     "name": "stdout",
     "output_type": "stream",
     "text": [
      "Tributes pour in for veteran actor Muhammed Qavi Khan\n",
      "Tributes pour in for veteran actor Muhammed Qavi Khan\n",
      "Veteran TV actor Qavi Khan passes away aged 80\n",
      "Stars pay tribute to the ‘institution’ that was veteran actor Qavi Khan\n",
      "Stars pay tribute to the ‘institution’ that was veteran actor Qavi Khan\n"
     ]
    }
   ],
   "source": [
    "for i in s:\n",
    "    print(data.sentence[i])"
   ]
  },
  {
   "attachments": {},
   "cell_type": "markdown",
   "metadata": {},
   "source": [
    "## Clustering"
   ]
  },
  {
   "attachments": {},
   "cell_type": "markdown",
   "metadata": {},
   "source": [
    "### K Mean Clustering"
   ]
  },
  {
   "cell_type": "code",
   "execution_count": null,
   "metadata": {},
   "outputs": [],
   "source": [
    "#use pca to reduce dimensionality\n",
    "from sklearn.decomposition import PCA\n",
    "from matplotlib import pyplot as plt\n",
    "\n",
    "pca = PCA(n_components=2)\n",
    "reduced_matrix = pca.fit_transform(corpus)"
   ]
  },
  {
   "cell_type": "code",
   "execution_count": null,
   "metadata": {},
   "outputs": [
    {
     "name": "stdout",
     "output_type": "stream",
     "text": [
      "Silhouette score: 0.4426882594296079\n"
     ]
    },
    {
     "data": {
      "image/png": "[encoded data removed]",
      "text/plain": [
       "<Figure size 432x288 with 1 Axes>"
      ]
     },
     "metadata": {
      "needs_background": "light"
     },
     "output_type": "display_data"
    }
   ],
   "source": [
    "from sklearn.cluster import KMeans\n",
    "from sklearn.metrics import silhouette_score\n",
    "kmeans = KMeans(n_clusters=5, random_state=42)\n",
    "kmeans.fit(reduced_matrix)\n",
    "\n",
    "# calculate the silhouette score to evaluate the quality of clustering\n",
    "silhouette_avg = silhouette_score(reduced_matrix, kmeans.labels_)\n",
    "print(f\"Silhouette score: {silhouette_avg}\")\n",
    "\n",
    "# plot the clusters\n",
    "colors = ['r', 'g', 'b', 'c', 'm']\n",
    "for i in range(5):\n",
    "    plt.scatter(reduced_matrix[kmeans.labels_ == i, 0], reduced_matrix[kmeans.labels_ == i, 1], c=colors[i], label=f\"Cluster {i+1}\")\n",
    "plt.title(f\"K-means Clustering ({5} Clusters)\\nSilhouette Score: {silhouette_avg:.3f}\")\n",
    "plt.legend()\n",
    "plt.show()"
   ]
  },
  {
   "attachments": {},
   "cell_type": "markdown",
   "metadata": {},
   "source": [
    "### Mini Batch K Mean Clustering"
   ]
  },
  {
   "cell_type": "code",
   "execution_count": null,
   "metadata": {},
   "outputs": [
    {
     "name": "stdout",
     "output_type": "stream",
     "text": [
      "Silhouette score: 0.4387978584542887\n"
     ]
    },
    {
     "data": {
      "image/png": "[encoded data removed]",
      "text/plain": [
       "<Figure size 432x288 with 1 Axes>"
      ]
     },
     "metadata": {
      "needs_background": "light"
     },
     "output_type": "display_data"
    }
   ],
   "source": [
    "mini_kmeans = MiniBatchKMeans(n_clusters=5)\n",
    "mini_kmeans.fit(reduced_matrix)\n",
    "\n",
    "# calculate the silhouette score to evaluate the quality of clustering\n",
    "silhouette_avg = silhouette_score(reduced_matrix, mini_kmeans.labels_)\n",
    "print(f\"Silhouette score: {silhouette_avg}\")\n",
    "\n",
    "# plot the clusters\n",
    "colors = ['r', 'g', 'b', 'c', 'm']\n",
    "for i in range(5):\n",
    "    plt.scatter(reduced_matrix[mini_kmeans.labels_ == i, 0], reduced_matrix[mini_kmeans.labels_ == i, 1], c=colors[i], label=f\"Cluster {i+1}\")\n",
    "plt.title(f\" Mini Bacth K-means Clustering ({5} Clusters)\\nSilhouette Score: {silhouette_avg:.3f}\")\n",
    "plt.legend()\n",
    "plt.show()"
   ]
  },
  {
   "attachments": {},
   "cell_type": "markdown",
   "metadata": {},
   "source": [
    "### Agglomarative Clustering"
   ]
  },
  {
   "cell_type": "code",
   "execution_count": null,
   "metadata": {},
   "outputs": [
    {
     "name": "stdout",
     "output_type": "stream",
     "text": [
      "Silhouette score: 0.4222316065932012\n"
     ]
    },
    {
     "data": {
      "image/png": "[encoded data removed]",
      "text/plain": [
       "<Figure size 432x288 with 1 Axes>"
      ]
     },
     "metadata": {
      "needs_background": "light"
     },
     "output_type": "display_data"
    }
   ],
   "source": [
    "aglo = AgglomerativeClustering(n_clusters=5, affinity='euclidean', linkage='ward')\n",
    "aglo.fit(reduced_matrix)\n",
    "\n",
    "# calculate the silhouette score to evaluate the quality of clustering\n",
    "silhouette_avg = silhouette_score(reduced_matrix, aglo.labels_)\n",
    "print(f\"Silhouette score: {silhouette_avg}\")\n",
    "\n",
    "# plot the clusters\n",
    "colors = ['r', 'g', 'b', 'c', 'm']\n",
    "for i in range(5):\n",
    "    plt.scatter(reduced_matrix[aglo.labels_ == i, 0], reduced_matrix[aglo.labels_ == i, 1], c=colors[i], label=f\"Cluster {i+1}\")\n",
    "plt.title(f\" Agglomarative Clustering ({5} Clusters)\\nSilhouette Score: {silhouette_avg:.3f}\")\n",
    "plt.legend()\n",
    "plt.show()"
   ]
  }
 ],
 "metadata": {
  "kernelspec": {
   "display_name": "Python 3",
   "language": "python",
   "name": "python3"
  },
  "language_info": {
   "codemirror_mode": {
    "name": "ipython",
    "version": 3
   },
   "file_extension": ".py",
   "mimetype": "text/x-python",
   "name": "python",
   "nbconvert_exporter": "python",
   "pygments_lexer": "ipython3",
   "version": "3.9.7"
  },
  "orig_nbformat": 4,
  "vscode": {
   "interpreter": {
    "hash": "95f57ecaf1e4684a97728584cbdcdcfb0a14de4fde6afb1e55592db96a99a5c0"
   }
  }
 },
 "nbformat": 4,
 "nbformat_minor": 2
}
