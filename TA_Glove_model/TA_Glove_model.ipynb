{
 "cells": [
  {
   "attachments": {},
   "cell_type": "markdown",
   "metadata": {},
   "source": [
    "## GLOVE VEC (PRE TRAINED)"
   ]
  },
  {
   "attachments": {},
   "cell_type": "markdown",
   "metadata": {},
   "source": [
    "### Importing Libraries"
   ]
  },
  {
   "cell_type": "code",
   "execution_count": 1,
   "metadata": {},
   "outputs": [],
   "source": [
    "import pandas as pd\n",
    "import numpy as np \n",
    "import gensim\n",
    "from gensim.models import KeyedVectors\n",
    "from sklearn.metrics.pairwise import cosine_similarity\n",
    "from sklearn.cluster import KMeans, AgglomerativeClustering, MiniBatchKMeans\n",
    "from sklearn.metrics import silhouette_score\n",
    "import pickle"
   ]
  },
  {
   "attachments": {},
   "cell_type": "markdown",
   "metadata": {},
   "source": [
    "### Loading Dataset"
   ]
  },
  {
   "cell_type": "code",
   "execution_count": 2,
   "metadata": {},
   "outputs": [
    {
     "data": {
      "text/plain": [
       "(3328, 2)"
      ]
     },
     "execution_count": 2,
     "metadata": {},
     "output_type": "execute_result"
    }
   ],
   "source": [
    "data = pd.read_csv('C:/Users/Muzammil/Desktop/TA_Assignment_1/TA_Data_Collection/sentences.csv')\n",
    "data.shape"
   ]
  },
  {
   "cell_type": "code",
   "execution_count": 3,
   "metadata": {},
   "outputs": [
    {
     "data": {
      "text/html": [
       "<div>\n",
       "<style scoped>\n",
       "    .dataframe tbody tr th:only-of-type {\n",
       "        vertical-align: middle;\n",
       "    }\n",
       "\n",
       "    .dataframe tbody tr th {\n",
       "        vertical-align: top;\n",
       "    }\n",
       "\n",
       "    .dataframe thead th {\n",
       "        text-align: right;\n",
       "    }\n",
       "</style>\n",
       "<table border=\"1\" class=\"dataframe\">\n",
       "  <thead>\n",
       "    <tr style=\"text-align: right;\">\n",
       "      <th></th>\n",
       "      <th>sentence</th>\n",
       "      <th>Text</th>\n",
       "    </tr>\n",
       "  </thead>\n",
       "  <tbody>\n",
       "    <tr>\n",
       "      <th>3323</th>\n",
       "      <td>India’s forex reserves increase, stand at $562...</td>\n",
       "      <td>MUMBAI: India’s foreign exchange reserves rose...</td>\n",
       "    </tr>\n",
       "    <tr>\n",
       "      <th>3324</th>\n",
       "      <td>Ford to cut 1,100 jobs in Spain</td>\n",
       "      <td>MADRID: U.S. auto maker Ford plans to slash 1,...</td>\n",
       "    </tr>\n",
       "    <tr>\n",
       "      <th>3325</th>\n",
       "      <td>Sri Lankan shares snap 6-day rally as financia...</td>\n",
       "      <td>Sri Lankan shares closed lower on Friday, afte...</td>\n",
       "    </tr>\n",
       "    <tr>\n",
       "      <th>3326</th>\n",
       "      <td>NY cocoa to fall to $2,692</td>\n",
       "      <td>SINGAPORE: New York May cocoa is expected to b...</td>\n",
       "    </tr>\n",
       "    <tr>\n",
       "      <th>3327</th>\n",
       "      <td>Banks drag FTSE 100 to 1-month low</td>\n",
       "      <td>London’s blue-chip FTSE 100 index fell on Frid...</td>\n",
       "    </tr>\n",
       "  </tbody>\n",
       "</table>\n",
       "</div>"
      ],
      "text/plain": [
       "                                               sentence  \\\n",
       "3323  India’s forex reserves increase, stand at $562...   \n",
       "3324                    Ford to cut 1,100 jobs in Spain   \n",
       "3325  Sri Lankan shares snap 6-day rally as financia...   \n",
       "3326                         NY cocoa to fall to $2,692   \n",
       "3327                 Banks drag FTSE 100 to 1-month low   \n",
       "\n",
       "                                                   Text  \n",
       "3323  MUMBAI: India’s foreign exchange reserves rose...  \n",
       "3324  MADRID: U.S. auto maker Ford plans to slash 1,...  \n",
       "3325  Sri Lankan shares closed lower on Friday, afte...  \n",
       "3326  SINGAPORE: New York May cocoa is expected to b...  \n",
       "3327  London’s blue-chip FTSE 100 index fell on Frid...  "
      ]
     },
     "execution_count": 3,
     "metadata": {},
     "output_type": "execute_result"
    }
   ],
   "source": [
    "data.tail()"
   ]
  },
  {
   "attachments": {},
   "cell_type": "markdown",
   "metadata": {},
   "source": [
    "### Loading Glove Model"
   ]
  },
  {
   "cell_type": "code",
   "execution_count": 4,
   "metadata": {},
   "outputs": [],
   "source": [
    "model = KeyedVectors.load('C:/Users/Muzammil/Desktop/TA_Assignment_1/TA_Glove_model/Glove_model.bin')"
   ]
  },
  {
   "cell_type": "code",
   "execution_count": 5,
   "metadata": {},
   "outputs": [
    {
     "data": {
      "text/plain": [
       "300"
      ]
     },
     "execution_count": 5,
     "metadata": {},
     "output_type": "execute_result"
    }
   ],
   "source": [
    "model.vector_size"
   ]
  },
  {
   "cell_type": "code",
   "execution_count": 7,
   "metadata": {},
   "outputs": [],
   "source": [
    "## function to create sentence embedding\n",
    "\n",
    "def sentence_embedding(data):\n",
    "    words = data.split()\n",
    "    embedding = np.zeros(300)\n",
    "    count = 0\n",
    "    for word in words:\n",
    "        if word in model.index_to_key:\n",
    "            embedding += model[word]\n",
    "            count += 1\n",
    "    if count > 0:\n",
    "        embedding /= count\n",
    "    return embedding"
   ]
  },
  {
   "attachments": {},
   "cell_type": "markdown",
   "metadata": {},
   "source": [
    "Creating sentence embedding and appending it to corpus"
   ]
  },
  {
   "cell_type": "code",
   "execution_count": 8,
   "metadata": {},
   "outputs": [],
   "source": [
    "corpus = []\n",
    "\n",
    "for i in data['sentence']:\n",
    "    corpus.append(sentence_embedding(i))"
   ]
  },
  {
   "cell_type": "code",
   "execution_count": 12,
   "metadata": {},
   "outputs": [
    {
     "data": {
      "text/plain": [
       "(3328, 300)"
      ]
     },
     "execution_count": 12,
     "metadata": {},
     "output_type": "execute_result"
    }
   ],
   "source": [
    "np.array(corpus).shape"
   ]
  },
  {
   "cell_type": "code",
   "execution_count": 13,
   "metadata": {},
   "outputs": [
    {
     "name": "stdout",
     "output_type": "stream",
     "text": [
      "[[-0.12579225 -0.01002575  0.1033455  ... -0.094915   -0.29876249\n",
      "   0.3448475 ]\n",
      " [ 0.03897131 -0.01690422  0.3134898  ...  0.0181918  -0.25318399\n",
      "   0.03380242]\n",
      " [ 0.15033751 -0.010001    0.3406494  ...  0.0552118  -0.12782325\n",
      "   0.19020262]\n",
      " ...\n",
      " [ 0.1401135   0.16973584  0.11935838 ... -0.39242137 -0.00759975\n",
      "   0.05381563]\n",
      " [-0.16637003 -0.30132424  0.25365612 ...  0.0495435   0.05614249\n",
      "  -0.1857775 ]\n",
      " [ 0.0662974  -0.12905279 -0.2571224  ...  0.2159392  -0.00709399\n",
      "   0.0355028 ]]\n"
     ]
    }
   ],
   "source": [
    "print(np.array(corpus))"
   ]
  },
  {
   "cell_type": "code",
   "execution_count": 14,
   "metadata": {},
   "outputs": [],
   "source": [
    "input_data = \"tribut pour veteran actor muham qavi khan\"\n",
    "\n",
    "input_corpus  = sentence_embedding(input_data)"
   ]
  },
  {
   "cell_type": "code",
   "execution_count": 15,
   "metadata": {},
   "outputs": [],
   "source": [
    "input_corpus=input_corpus.reshape(1,300)"
   ]
  },
  {
   "cell_type": "code",
   "execution_count": 16,
   "metadata": {},
   "outputs": [
    {
     "data": {
      "text/plain": [
       "(1, 300)"
      ]
     },
     "execution_count": 16,
     "metadata": {},
     "output_type": "execute_result"
    }
   ],
   "source": [
    "np.array(input_corpus).shape"
   ]
  },
  {
   "attachments": {},
   "cell_type": "markdown",
   "metadata": {},
   "source": [
    "### Cosine Similarity"
   ]
  },
  {
   "cell_type": "code",
   "execution_count": 17,
   "metadata": {},
   "outputs": [
    {
     "name": "stdout",
     "output_type": "stream",
     "text": [
      "[[0.38741748 0.41718396 0.40425401 ... 0.37767431 0.36282611 0.36958363]]\n",
      "0.7267064999277155\n",
      "909\n",
      "0.7267064999277155\n",
      "[ 909 1079  814  536  535]\n"
     ]
    }
   ],
   "source": [
    "cos_similarities = cosine_similarity(np.array(input_corpus) , np.array(corpus))\n",
    "print(cos_similarities)\n",
    "print(cos_similarities.max())\n",
    "print(cos_similarities[0].argmax())\n",
    "print(cos_similarities[0].max())\n",
    "s= cos_similarities[0].argsort()[-5:][::-1]\n",
    "print(s)"
   ]
  },
  {
   "cell_type": "code",
   "execution_count": 18,
   "metadata": {},
   "outputs": [
    {
     "name": "stdout",
     "output_type": "stream",
     "text": [
      "Tributes pour in for veteran actor Muhammed Qavi Khan\n",
      "Tributes pour in for veteran actor Muhammed Qavi Khan\n",
      "Sanjrani mourns legendary actor Qavi Khan’s demise\n",
      "Stars pay tribute to the ‘institution’ that was veteran actor Qavi Khan\n",
      "Stars pay tribute to the ‘institution’ that was veteran actor Qavi Khan\n"
     ]
    }
   ],
   "source": [
    "for i in s:\n",
    "    print(data.sentence[i])"
   ]
  },
  {
   "attachments": {},
   "cell_type": "markdown",
   "metadata": {},
   "source": [
    "## Clustering"
   ]
  },
  {
   "attachments": {},
   "cell_type": "markdown",
   "metadata": {},
   "source": [
    "### K Mean Clustering"
   ]
  },
  {
   "cell_type": "code",
   "execution_count": 19,
   "metadata": {},
   "outputs": [],
   "source": [
    "#use pca to reduce dimensionality\n",
    "from sklearn.decomposition import PCA\n",
    "from matplotlib import pyplot as plt\n",
    "\n",
    "pca = PCA(n_components=2)\n",
    "reduced_matrix = pca.fit_transform(corpus)"
   ]
  },
  {
   "cell_type": "code",
   "execution_count": 20,
   "metadata": {},
   "outputs": [
    {
     "name": "stdout",
     "output_type": "stream",
     "text": [
      "Silhouette score: 0.3802996689983275\n"
     ]
    },
    {
     "data": {
      "image/png": "[encoded data removed]",
      "text/plain": [
       "<Figure size 432x288 with 1 Axes>"
      ]
     },
     "metadata": {
      "needs_background": "light"
     },
     "output_type": "display_data"
    }
   ],
   "source": [
    "from sklearn.cluster import KMeans\n",
    "from sklearn.metrics import silhouette_score\n",
    "kmeans = KMeans(n_clusters=5, random_state=42)\n",
    "kmeans.fit(reduced_matrix)\n",
    "\n",
    "# calculate the silhouette score to evaluate the quality of clustering\n",
    "silhouette_avg = silhouette_score(reduced_matrix, kmeans.labels_)\n",
    "print(f\"Silhouette score: {silhouette_avg}\")\n",
    "\n",
    "# plot the clusters\n",
    "colors = ['r', 'g', 'b', 'c', 'm']\n",
    "for i in range(5):\n",
    "    plt.scatter(reduced_matrix[kmeans.labels_ == i, 0], reduced_matrix[kmeans.labels_ == i, 1], c=colors[i], label=f\"Cluster {i+1}\")\n",
    "plt.title(f\"K-means Clustering ({5} Clusters)\\nSilhouette Score: {silhouette_avg:.3f}\")\n",
    "plt.legend()\n",
    "plt.show()"
   ]
  },
  {
   "attachments": {},
   "cell_type": "markdown",
   "metadata": {},
   "source": [
    "### Mini Batch K Mean "
   ]
  },
  {
   "cell_type": "code",
   "execution_count": 21,
   "metadata": {},
   "outputs": [
    {
     "name": "stdout",
     "output_type": "stream",
     "text": [
      "Silhouette score: 0.36559468176694515\n"
     ]
    },
    {
     "data": {
      "image/png": "[encoded data removed]",
      "text/plain": [
       "<Figure size 432x288 with 1 Axes>"
      ]
     },
     "metadata": {
      "needs_background": "light"
     },
     "output_type": "display_data"
    }
   ],
   "source": [
    "mini_kmeans = MiniBatchKMeans(n_clusters=5)\n",
    "mini_kmeans.fit(reduced_matrix)\n",
    "\n",
    "# calculate the silhouette score to evaluate the quality of clustering\n",
    "silhouette_avg = silhouette_score(reduced_matrix, mini_kmeans.labels_)\n",
    "print(f\"Silhouette score: {silhouette_avg}\")\n",
    "\n",
    "# plot the clusters\n",
    "colors = ['r', 'g', 'b', 'c', 'm']\n",
    "for i in range(5):\n",
    "    plt.scatter(reduced_matrix[mini_kmeans.labels_ == i, 0], reduced_matrix[mini_kmeans.labels_ == i, 1], c=colors[i], label=f\"Cluster {i+1}\")\n",
    "plt.title(f\" Mini Bacth K-means Clustering ({5} Clusters)\\nSilhouette Score: {silhouette_avg:.3f}\")\n",
    "plt.legend()\n",
    "plt.show()"
   ]
  },
  {
   "attachments": {},
   "cell_type": "markdown",
   "metadata": {},
   "source": [
    "### Agglomarative Clustering"
   ]
  },
  {
   "cell_type": "code",
   "execution_count": 22,
   "metadata": {},
   "outputs": [
    {
     "name": "stdout",
     "output_type": "stream",
     "text": [
      "Silhouette score: 0.2899086288822051\n"
     ]
    },
    {
     "data": {
      "image/png": "[encoded data removed]",
      "text/plain": [
       "<Figure size 432x288 with 1 Axes>"
      ]
     },
     "metadata": {
      "needs_background": "light"
     },
     "output_type": "display_data"
    }
   ],
   "source": [
    "aglo = AgglomerativeClustering(n_clusters=5, affinity='euclidean', linkage='ward')\n",
    "aglo.fit(reduced_matrix)\n",
    "\n",
    "# calculate the silhouette score to evaluate the quality of clustering\n",
    "silhouette_avg = silhouette_score(reduced_matrix, aglo.labels_)\n",
    "print(f\"Silhouette score: {silhouette_avg}\")\n",
    "\n",
    "# plot the clusters\n",
    "colors = ['r', 'g', 'b', 'c', 'm']\n",
    "for i in range(5):\n",
    "    plt.scatter(reduced_matrix[aglo.labels_ == i, 0], reduced_matrix[aglo.labels_ == i, 1], c=colors[i], label=f\"Cluster {i+1}\")\n",
    "plt.title(f\" Agglomarative Clustering ({5} Clusters)\\nSilhouette Score: {silhouette_avg:.3f}\")\n",
    "plt.legend()\n",
    "plt.show()"
   ]
  }
 ],
 "metadata": {
  "kernelspec": {
   "display_name": "Python 3",
   "language": "python",
   "name": "python3"
  },
  "language_info": {
   "codemirror_mode": {
    "name": "ipython",
    "version": 3
   },
   "file_extension": ".py",
   "mimetype": "text/x-python",
   "name": "python",
   "nbconvert_exporter": "python",
   "pygments_lexer": "ipython3",
   "version": "3.9.7"
  },
  "orig_nbformat": 4
 },
 "nbformat": 4,
 "nbformat_minor": 2
}
